{
 "cells": [
  {
   "cell_type": "markdown",
   "metadata": {},
   "source": [
    "# Wine Dataset\n",
    "DataSet Link: https://www.kaggle.com/datasets/salohiddindev/wine-dataset-scraping-from-wine-com\n",
    "# Load the dataset\n",
    "\n"
   ]
  },
  {
   "cell_type": "code",
   "execution_count": 15,
   "metadata": {},
   "outputs": [
    {
     "name": "stderr",
     "output_type": "stream",
     "text": [
      "C:\\Users\\david\\AppData\\Local\\Temp\\ipykernel_25540\\2530686812.py:39: FutureWarning: \n",
      "\n",
      "Passing `palette` without assigning `hue` is deprecated and will be removed in v0.14.0. Assign the `y` variable to `hue` and set `legend=False` for the same effect.\n",
      "\n",
      "  sns.countplot(data=wine_data, y='Price Range', order=price_range_order, palette=sns.cubehelix_palette(n_colors=len(price_range_order), start=.5, rot=-.75, reverse=True))\n",
      "C:\\Users\\david\\AppData\\Local\\Temp\\ipykernel_25540\\2530686812.py:52: FutureWarning: \n",
      "\n",
      "Passing `palette` without assigning `hue` is deprecated and will be removed in v0.14.0. Assign the `y` variable to `hue` and set `legend=False` for the same effect.\n",
      "\n",
      "  sns.countplot(data=wine_data, y='color_wine', order=wine_types_order, palette=sns.cubehelix_palette(n_colors=len(wine_types_order), start=.5, rot=-.75, reverse=True))\n"
     ]
    }
   ],
   "source": [
    "import pandas as pd\n",
    "import matplotlib.pyplot as plt\n",
    "import seaborn as sns\n",
    "\n",
    "# Load the dataset\n",
    "file_path = r\"C:\\Users\\david\\OneDrive\\Documents\\DaveShevy\\Datasets\\Wine Dataset\\vivno_dataset.xlsx\"\n",
    "wine_data = pd.read_excel(file_path)\n",
    "\n",
    "# Data Cleaning Process\n",
    "\n",
    "# Removing $ sign and converting Prices to numeric\n",
    "wine_data['Prices'] = wine_data['Prices'].replace('[\\$,]', '', regex=True).astype(float)\n",
    "\n",
    "# Removing duplicates\n",
    "wine_data = wine_data.drop_duplicates()\n",
    "\n",
    "# Replace 0 ABV with NaN since 0 is not a valid alcohol by volume percentage\n",
    "wine_data['ABV %'] = wine_data['ABV %'].replace(0, pd.NA)\n",
    "\n",
    "# Adjusting the 'color_wine' column to replace '0' with 'Other'\n",
    "wine_data['color_wine'] = wine_data['color_wine'].replace(['0', 0, 'O'], 'Other')\n",
    "wine_data['color_wine'] = wine_data['color_wine'].replace('O', 'Other')\n",
    "\n",
    "# Define the price bins and labels for categorizing prices\n",
    "price_bins = [0, 20, 50, 100, 500, 1000, wine_data['Prices'].max()]\n",
    "price_labels = [\"$0-20\", \"$20-50\", \"$50-100\", \"$100-500\", \"$500-1000\", \"$1000+\"]\n",
    "wine_data['Price Range'] = pd.cut(wine_data['Prices'], bins=price_bins, labels=price_labels)\n",
    "\n",
    "# Set the seaborn style to dark for a full dark theme\n",
    "sns.set_theme(style=\"darkgrid\", palette=\"deep\")\n",
    "sns.set_context(\"talk\")\n",
    "\n",
    "# Set the default color of the plot to dark\n",
    "plt.rcParams['axes.facecolor'] = '#313133'\n",
    "\n",
    "# Visualization 1: Wine Price Distribution with Gradient Bars\n",
    "plt.figure(figsize=(10, 6))\n",
    "price_range_order = wine_data['Price Range'].value_counts().index\n",
    "sns.countplot(data=wine_data, y='Price Range', order=price_range_order, palette=sns.cubehelix_palette(n_colors=len(price_range_order), start=.5, rot=-.75, reverse=True))\n",
    "plt.title('Wine Price Distribution', color='white')\n",
    "plt.xlabel('Number of Wines', color='white')\n",
    "plt.ylabel('Price Range ($)', color='white')\n",
    "plt.xticks(color='white')\n",
    "plt.yticks(color='white')\n",
    "plt.tight_layout()\n",
    "plt.savefig(r\"C:\\Users\\david\\OneDrive\\Documents\\DaveShevy\\Datasets\\Wine Dataset\\price_distribution_dark.png\", facecolor='#313133')  # Save with dark background\n",
    "plt.close()\n",
    "\n",
    "# Visualization 2: Distribution of Wine Types with Gradient Bars\n",
    "plt.figure(figsize=(12, 8))\n",
    "wine_types_order = wine_data['color_wine'].value_counts().index\n",
    "sns.countplot(data=wine_data, y='color_wine', order=wine_types_order, palette=sns.cubehelix_palette(n_colors=len(wine_types_order), start=.5, rot=-.75, reverse=True))\n",
    "plt.title('Distribution of Wine Types', color='white')\n",
    "plt.xlabel('Number of Wines', color='white')\n",
    "plt.ylabel('Wine Type', color='white')\n",
    "plt.xticks(color='white')\n",
    "plt.yticks(color='white')\n",
    "plt.tight_layout()\n",
    "plt.savefig(r\"C:\\Users\\david\\OneDrive\\Documents\\DaveShevy\\Datasets\\Wine Dataset\\wine_types_dark.png\", facecolor='#313133')  # Save with dark background\n",
    "plt.close()\n"
   ]
  }
 ],
 "metadata": {
  "kernelspec": {
   "display_name": "PythonConda",
   "language": "python",
   "name": "python3"
  },
  "language_info": {
   "codemirror_mode": {
    "name": "ipython",
    "version": 3
   },
   "file_extension": ".py",
   "mimetype": "text/x-python",
   "name": "python",
   "nbconvert_exporter": "python",
   "pygments_lexer": "ipython3",
   "version": "3.11.5"
  }
 },
 "nbformat": 4,
 "nbformat_minor": 2
}
